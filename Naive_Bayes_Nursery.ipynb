{
 "cells": [
  {
   "cell_type": "code",
   "execution_count": 2014,
   "metadata": {},
   "outputs": [],
   "source": [
    "import pandas as pd\n",
    "import numpy as np\n",
    "import csv"
   ]
  },
  {
   "cell_type": "code",
   "execution_count": 2015,
   "metadata": {},
   "outputs": [],
   "source": [
    "df = pd.read_csv(\"F:\\DataMining\\data.csv\")\n",
    "df.columns\n",
    "np.random.seed(0)\n",
    "msk = np.random.rand(len(df)) < 0.6\n",
    "train = df[msk]\n",
    "test = df[~msk]\n",
    "target = test['Label']\n",
    "test = test.drop(['Label'],axis=1)\n",
    "N, M = df.shape"
   ]
  },
  {
   "cell_type": "code",
   "execution_count": 2016,
   "metadata": {},
   "outputs": [],
   "source": [
    "# train.info()"
   ]
  },
  {
   "cell_type": "code",
   "execution_count": 2017,
   "metadata": {},
   "outputs": [
    {
     "data": {
      "text/plain": [
       "array(['recommend', 'priority', 'very_recom', 'not_recom', 'spec_prior'],\n",
       "      dtype=object)"
      ]
     },
     "execution_count": 2017,
     "metadata": {},
     "output_type": "execute_result"
    }
   ],
   "source": [
    "train.Label.unique()"
   ]
  },
  {
   "cell_type": "code",
   "execution_count": 2018,
   "metadata": {},
   "outputs": [],
   "source": [
    "Likelihood_Dict= {\n",
    "} \n",
    "Priors={\n",
    "   \n",
    "}\n",
    "Dict_Labels = dict()\n",
    "def isEmpty(dic):\n",
    "    if len(dic) == 0:\n",
    "        return dic\n",
    "    else:\n",
    "        new_dict ={\n",
    "            \n",
    "        }\n",
    "        return new_dict\n",
    "def NaiveBayesTrain(train,targetCol):\n",
    "    likelihood_dict= dict() \n",
    "    priors=dict()\n",
    "    likelihood_dict = isEmpty(likelihood_dict)\n",
    "    priors = isEmpty(priors)\n",
    "    data = np.array(train)\n",
    "    r,c= train.shape\n",
    "    classes = list(train[targetCol].unique())\n",
    "    prior = train.groupby(targetCol)[targetCol].agg(['count'])\n",
    "    priors =  ((prior).T.to_dict())  \n",
    "\n",
    "    for key in priors.keys():\n",
    "        val = priors.get(key)\n",
    "        for elm in val:\n",
    "            val = round((val.get(elm)/r),2)\n",
    "            priors.update({key:val})\n",
    "    def divide(dic, count):\n",
    "        n_dic = {\n",
    "\n",
    "        }\n",
    "        for key in dic.keys():\n",
    "            val = round(dic.get(key)/count,2)\n",
    "            n_dic.update({key:val})\n",
    "        return n_dic  \n",
    "    columns = list(train.columns)\n",
    "    def cal_likelihood(data,cls):\n",
    "        n,m = data.shape\n",
    "        for col in columns:\n",
    "            dic = {\n",
    "\n",
    "            }\n",
    "            att_val = (data[col].unique())\n",
    "            val = (data.groupby(col)[col].count()).to_dict()\n",
    "            val =divide(val,n)\n",
    "            dic.update({col:val})\n",
    "\n",
    "            if cls in likelihood_dict.keys():\n",
    "                val = likelihood_dict.get(cls)\n",
    "                val.update(dic)\n",
    "            else:    \n",
    "                likelihood_dict.update({cls:dic})\n",
    "    print(classes)    \n",
    "    for cls in classes:\n",
    "        data_ = train.loc[train[targetCol]== cls]\n",
    "        \n",
    "        cal_likelihood(data_,cls)\n",
    "    dict_df = pd.DataFrame(likelihood_dict)\n",
    "#     display(dict_df)\n",
    "    return likelihood_dict,priors\n"
   ]
  },
  {
   "cell_type": "code",
   "execution_count": 2019,
   "metadata": {},
   "outputs": [],
   "source": [
    "'''\n",
    "Test \n",
    "'''\n",
    "def sorted_prior():\n",
    "    rlist = list()\n",
    "    for key in Likelihood_Dict.keys():\n",
    "        if key in Priors.keys():\n",
    "            print (key)\n",
    "            rlist.append(Priors.get(key))\n",
    "    print (rlist)        \n",
    "    return (rlist)        \n",
    "def feature_post(data,column):\n",
    "    result =np.zeros(shape=(len(data),))\n",
    "#     print ('Like keys',Likelihood_Dict.keys())\n",
    "    for key in Likelihood_Dict.keys():\n",
    "        val = Likelihood_Dict.get(key)\n",
    "        col = val.get(column)\n",
    "        res =[]\n",
    "        for dat in data:\n",
    "            if dat in col.keys():\n",
    "                res.append(col.get(dat))\n",
    "            else:\n",
    "                res.append('0.001')\n",
    "        res = np.array(res,dtype = float)\n",
    "        result =np.column_stack((result,res))\n",
    "#     print (result)    \n",
    "    return (result[:,1:]) \n",
    "\n",
    "def NaiveBayesPredict(test,target):\n",
    "    X_test = np.array(test)\n",
    "    prediction = np.ones(shape=(len(X_test),len(Priors)))\n",
    "#     print(columns)\n",
    "    columns = list(test.columns)\n",
    "    print ('Predict',columns)\n",
    "    for i in range(len(columns)):\n",
    "        ff = X_test[:,i]\n",
    "        pred = feature_post(ff,columns[i])\n",
    "        prediction  = prediction*pred\n",
    "        \n",
    "    prior = list(Priors.values())\n",
    "    print ('--------------------------------------------')\n",
    "    rlist = sorted_prior()\n",
    "    print ('--------------------------------------------')\n",
    "    prediction = prediction*rlist\n",
    "    predict = np.argmax(prediction,axis=1)\n",
    "    print ('predict', predict)\n",
    "    labels = list(Likelihood_Dict.keys())\n",
    "    dict_labels={\n",
    "\n",
    "    }\n",
    "    for i in range(len(labels)):\n",
    "        dict_labels.update({i:labels[i]})\n",
    "    print ('dict_labels',dict_labels)\n",
    "    predict =  (predict.reshape(-1,1))\n",
    "    predict = pd.DataFrame(predict)\n",
    "    predict = np.array(predict.replace(dict_labels))\n",
    "\n",
    "    predict =  (predict.T[0])\n",
    "    differ = np.sum(target == predict)\n",
    "\n",
    "    print ('Accuracy:',(differ/len(test))*100)"
   ]
  },
  {
   "cell_type": "code",
   "execution_count": 2020,
   "metadata": {},
   "outputs": [
    {
     "name": "stdout",
     "output_type": "stream",
     "text": [
      "['recommend', 'priority', 'very_recom', 'not_recom', 'spec_prior']\n",
      "{'not_recom': 0.33, 'priority': 0.33, 'recommend': 0.0, 'spec_prior': 0.31, 'very_recom': 0.03}\n",
      "Predict ['parents', 'has_nurs', 'form ', 'children', 'housing', 'finance', 'social', 'health']\n",
      "--------------------------------------------\n",
      "recommend\n",
      "priority\n",
      "very_recom\n",
      "not_recom\n",
      "spec_prior\n",
      "[0.0, 0.33, 0.03, 0.33, 0.31]\n",
      "--------------------------------------------\n",
      "predict [1 3 3 ... 4 4 4]\n",
      "dict_labels {0: 'recommend', 1: 'priority', 2: 'very_recom', 3: 'not_recom', 4: 'spec_prior'}\n",
      "Accuracy: 90.15493233967445\n"
     ]
    }
   ],
   "source": [
    "Likelihood_Dict, Priors = NaiveBayesTrain(train,'Label')\n",
    "print (Priors)\n",
    "NaiveBayesPredict(test,target)\n"
   ]
  },
  {
   "cell_type": "code",
   "execution_count": 2021,
   "metadata": {},
   "outputs": [
    {
     "name": "stdout",
     "output_type": "stream",
     "text": [
      "Index(['ID', 'LIMIT_BAL', 'SEX', 'EDUCATION', 'MARRIAGE', 'AGE', 'PAY_0',\n",
      "       'PAY_2', 'PAY_3', 'PAY_4', 'PAY_5', 'PAY_6', 'BILL_AMT1', 'BILL_AMT2',\n",
      "       'BILL_AMT3', 'BILL_AMT4', 'BILL_AMT5', 'BILL_AMT6', 'PAY_AMT1',\n",
      "       'PAY_AMT2', 'PAY_AMT3', 'PAY_AMT4', 'PAY_AMT5', 'PAY_AMT6', 'target'],\n",
      "      dtype='object', name=1)\n",
      "['1', '0']\n",
      "Predict ['ID', 'LIMIT_BAL', 'SEX', 'EDUCATION', 'MARRIAGE', 'AGE', 'PAY_0', 'PAY_2', 'PAY_3', 'PAY_4', 'PAY_5', 'PAY_6', 'BILL_AMT1', 'BILL_AMT2', 'BILL_AMT3', 'BILL_AMT4', 'BILL_AMT5', 'BILL_AMT6', 'PAY_AMT1', 'PAY_AMT2', 'PAY_AMT3', 'PAY_AMT4', 'PAY_AMT5', 'PAY_AMT6']\n",
      "--------------------------------------------\n",
      "1\n",
      "0\n",
      "[0.22, 0.78]\n",
      "--------------------------------------------\n",
      "predict [0 0 0 ... 0 0 0]\n",
      "dict_labels {0: '1', 1: '0'}\n",
      "Accuracy: 26.003210272873194\n"
     ]
    }
   ],
   "source": [
    "df1 = pd.read_csv(r\"C:\\Users\\admin\\Desktop\\Fall19\\ML\\data\\CreditCard\\data.csv\",header=None)\n",
    "new_header = df1.iloc[1] #grab the first row for the header\n",
    "df1 = df1[2:] #take the data less the header row\n",
    "df1.columns = new_header\n",
    "df1.rename(columns={'default payment next month':'target'},inplace=True)\n",
    "np.random.seed(0)\n",
    "msk1 = np.random.rand(len(df1)) < 0.6\n",
    "train1 = df1[msk1]\n",
    "test1 = df1[~msk1]\n",
    "print (df1.columns)\n",
    "test2 = test1.drop(['target'],axis=1)\n",
    "target1 = test1['target']\n",
    "Likelihood_Dict= {\n",
    "} \n",
    "Priors={\n",
    "   \n",
    "}\n",
    "Likelihood_Dict, Priors =NaiveBayesTrain(train1,'target')\n",
    "NaiveBayesPredict(test2,target1)\n",
    "# N, M = df1.shape"
   ]
  }
 ],
 "metadata": {
  "kernelspec": {
   "display_name": "Python 3",
   "language": "python",
   "name": "python3"
  },
  "language_info": {
   "codemirror_mode": {
    "name": "ipython",
    "version": 3
   },
   "file_extension": ".py",
   "mimetype": "text/x-python",
   "name": "python",
   "nbconvert_exporter": "python",
   "pygments_lexer": "ipython3",
   "version": "3.7.3"
  }
 },
 "nbformat": 4,
 "nbformat_minor": 2
}
